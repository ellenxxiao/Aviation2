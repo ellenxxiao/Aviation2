{
 "cells": [
  {
   "cell_type": "markdown",
   "metadata": {},
   "source": [
    "### Cocktail/Drink Recommendation\n",
    "\n",
    "This program intends to find five most similar cocktails/drinks utilizing Gower’s dissimilarity measure. The data has been cleaned in previous programs."
   ]
  },
  {
   "cell_type": "code",
   "execution_count": 11,
   "metadata": {},
   "outputs": [],
   "source": [
    "# import package\n",
    "\n",
    "import pandas as pd\n",
    "import numpy as np\n",
    "import matplotlib.pyplot as plt\n",
    "import re\n",
    "\n",
    "import gower\n",
    "from sklearn.preprocessing import scale,StandardScaler\n",
    "from scipy.cluster.hierarchy import linkage, fcluster, dendrogram\n",
    "from sklearn.metrics import silhouette_samples, silhouette_score\n",
    "from sklearn.decomposition import PCA\n",
    "from sklearn.manifold import TSNE"
   ]
  },
  {
   "cell_type": "code",
   "execution_count": 5,
   "metadata": {},
   "outputs": [
    {
     "data": {
      "text/html": [
       "<div>\n",
       "<style scoped>\n",
       "    .dataframe tbody tr th:only-of-type {\n",
       "        vertical-align: middle;\n",
       "    }\n",
       "\n",
       "    .dataframe tbody tr th {\n",
       "        vertical-align: top;\n",
       "    }\n",
       "\n",
       "    .dataframe thead th {\n",
       "        text-align: right;\n",
       "    }\n",
       "</style>\n",
       "<table border=\"1\" class=\"dataframe\">\n",
       "  <thead>\n",
       "    <tr style=\"text-align: right;\">\n",
       "      <th></th>\n",
       "      <th>DrinkName</th>\n",
       "      <th>rum</th>\n",
       "      <th>soda</th>\n",
       "      <th>grain alcohol</th>\n",
       "      <th>herb</th>\n",
       "      <th>anis</th>\n",
       "      <th>vodka</th>\n",
       "      <th>citrus</th>\n",
       "      <th>currant</th>\n",
       "      <th>spice</th>\n",
       "      <th>...</th>\n",
       "      <th>tequila</th>\n",
       "      <th>cookie</th>\n",
       "      <th>peach</th>\n",
       "      <th>chili</th>\n",
       "      <th>ice cream</th>\n",
       "      <th>rose</th>\n",
       "      <th>vinegar</th>\n",
       "      <th>tomato</th>\n",
       "      <th>water</th>\n",
       "      <th>yoghurt</th>\n",
       "    </tr>\n",
       "  </thead>\n",
       "  <tbody>\n",
       "    <tr>\n",
       "      <th>0</th>\n",
       "      <td>A1</td>\n",
       "      <td>0.0</td>\n",
       "      <td>0.000000</td>\n",
       "      <td>0.0</td>\n",
       "      <td>0</td>\n",
       "      <td>0</td>\n",
       "      <td>0.0</td>\n",
       "      <td>1</td>\n",
       "      <td>0</td>\n",
       "      <td>0</td>\n",
       "      <td>...</td>\n",
       "      <td>0.0</td>\n",
       "      <td>0</td>\n",
       "      <td>0</td>\n",
       "      <td>0</td>\n",
       "      <td>0</td>\n",
       "      <td>0</td>\n",
       "      <td>0</td>\n",
       "      <td>0</td>\n",
       "      <td>0</td>\n",
       "      <td>0.0</td>\n",
       "    </tr>\n",
       "    <tr>\n",
       "      <th>1</th>\n",
       "      <td>ABC</td>\n",
       "      <td>0.0</td>\n",
       "      <td>0.000000</td>\n",
       "      <td>0.0</td>\n",
       "      <td>0</td>\n",
       "      <td>0</td>\n",
       "      <td>0.0</td>\n",
       "      <td>0</td>\n",
       "      <td>0</td>\n",
       "      <td>0</td>\n",
       "      <td>...</td>\n",
       "      <td>0.0</td>\n",
       "      <td>0</td>\n",
       "      <td>0</td>\n",
       "      <td>0</td>\n",
       "      <td>0</td>\n",
       "      <td>0</td>\n",
       "      <td>0</td>\n",
       "      <td>0</td>\n",
       "      <td>0</td>\n",
       "      <td>0.0</td>\n",
       "    </tr>\n",
       "    <tr>\n",
       "      <th>2</th>\n",
       "      <td>Ace</td>\n",
       "      <td>0.0</td>\n",
       "      <td>0.000000</td>\n",
       "      <td>0.0</td>\n",
       "      <td>0</td>\n",
       "      <td>0</td>\n",
       "      <td>0.0</td>\n",
       "      <td>0</td>\n",
       "      <td>0</td>\n",
       "      <td>0</td>\n",
       "      <td>...</td>\n",
       "      <td>0.0</td>\n",
       "      <td>0</td>\n",
       "      <td>0</td>\n",
       "      <td>0</td>\n",
       "      <td>0</td>\n",
       "      <td>0</td>\n",
       "      <td>0</td>\n",
       "      <td>0</td>\n",
       "      <td>0</td>\n",
       "      <td>0.0</td>\n",
       "    </tr>\n",
       "    <tr>\n",
       "      <th>3</th>\n",
       "      <td>Adam</td>\n",
       "      <td>2.0</td>\n",
       "      <td>0.000000</td>\n",
       "      <td>0.0</td>\n",
       "      <td>0</td>\n",
       "      <td>0</td>\n",
       "      <td>0.0</td>\n",
       "      <td>0</td>\n",
       "      <td>0</td>\n",
       "      <td>0</td>\n",
       "      <td>...</td>\n",
       "      <td>0.0</td>\n",
       "      <td>0</td>\n",
       "      <td>0</td>\n",
       "      <td>0</td>\n",
       "      <td>0</td>\n",
       "      <td>0</td>\n",
       "      <td>0</td>\n",
       "      <td>0</td>\n",
       "      <td>0</td>\n",
       "      <td>0.0</td>\n",
       "    </tr>\n",
       "    <tr>\n",
       "      <th>4</th>\n",
       "      <td>AT&amp;T</td>\n",
       "      <td>0.0</td>\n",
       "      <td>3.546303</td>\n",
       "      <td>0.0</td>\n",
       "      <td>0</td>\n",
       "      <td>0</td>\n",
       "      <td>1.0</td>\n",
       "      <td>0</td>\n",
       "      <td>0</td>\n",
       "      <td>0</td>\n",
       "      <td>...</td>\n",
       "      <td>0.0</td>\n",
       "      <td>0</td>\n",
       "      <td>0</td>\n",
       "      <td>0</td>\n",
       "      <td>0</td>\n",
       "      <td>0</td>\n",
       "      <td>0</td>\n",
       "      <td>0</td>\n",
       "      <td>0</td>\n",
       "      <td>0.0</td>\n",
       "    </tr>\n",
       "  </tbody>\n",
       "</table>\n",
       "<p>5 rows × 44 columns</p>\n",
       "</div>"
      ],
      "text/plain": [
       "  DrinkName  rum      soda  grain alcohol  herb  anis  vodka  citrus  currant  \\\n",
       "0        A1  0.0  0.000000            0.0     0     0    0.0       1        0   \n",
       "1       ABC  0.0  0.000000            0.0     0     0    0.0       0        0   \n",
       "2       Ace  0.0  0.000000            0.0     0     0    0.0       0        0   \n",
       "3      Adam  2.0  0.000000            0.0     0     0    0.0       0        0   \n",
       "4      AT&T  0.0  3.546303            0.0     0     0    1.0       0        0   \n",
       "\n",
       "   spice  ...  tequila  cookie  peach  chili  ice cream  rose  vinegar  \\\n",
       "0      0  ...      0.0       0      0      0          0     0        0   \n",
       "1      0  ...      0.0       0      0      0          0     0        0   \n",
       "2      0  ...      0.0       0      0      0          0     0        0   \n",
       "3      0  ...      0.0       0      0      0          0     0        0   \n",
       "4      0  ...      0.0       0      0      0          0     0        0   \n",
       "\n",
       "   tomato  water  yoghurt  \n",
       "0       0      0      0.0  \n",
       "1       0      0      0.0  \n",
       "2       0      0      0.0  \n",
       "3       0      0      0.0  \n",
       "4       0      0      0.0  \n",
       "\n",
       "[5 rows x 44 columns]"
      ]
     },
     "execution_count": 5,
     "metadata": {},
     "output_type": "execute_result"
    }
   ],
   "source": [
    "# import prepared cocktail dataset - the ingredients have been grouped (e.g., different kind of sugar, syrup are combined into syrup)\n",
    "\n",
    "df = pd.read_csv('/Users/ellenxiao/Documents/Udemy/cocktail/cocktail_clean1.0.csv')\n",
    "df.head()"
   ]
  },
  {
   "cell_type": "code",
   "execution_count": 6,
   "metadata": {},
   "outputs": [
    {
     "name": "stdout",
     "output_type": "stream",
     "text": [
      "Number of Rows:  404\n",
      "Number of Columns:  44\n",
      "Features: \n",
      " ['DrinkName', 'rum', 'soda', 'grain alcohol', 'herb', 'anis', 'vodka', 'citrus', 'currant', 'spice', 'brandy', 'syrup', 'agave', 'almond', 'bitters', 'campari', 'apple', 'whiskey', 'cream', 'cocoa', 'beer', 'berries', 'butter', 'salt', 'champagne', 'coke', 'milk', 'coconut', 'coffee', 'wine', 'tropical fruit', 'gin', 'grape', 'pomegranate', 'tequila', 'cookie', 'peach', 'chili', 'ice cream', 'rose', 'vinegar', 'tomato', 'water', 'yoghurt']\n",
      "Number of null value:  0\n",
      "Unique values: \n",
      " DrinkName         404\n",
      "rum                29\n",
      "soda               16\n",
      "grain alcohol      33\n",
      "herb                2\n",
      "anis                2\n",
      "vodka              25\n",
      "citrus              2\n",
      "currant             2\n",
      "spice               2\n",
      "brandy             16\n",
      "syrup              47\n",
      "agave               2\n",
      "almond              2\n",
      "bitters             8\n",
      "campari             5\n",
      "apple               2\n",
      "whiskey            21\n",
      "cream               2\n",
      "cocoa               2\n",
      "beer                7\n",
      "berries             2\n",
      "butter              2\n",
      "salt                2\n",
      "champagne           7\n",
      "coke                6\n",
      "milk               17\n",
      "coconut             2\n",
      "coffee             17\n",
      "wine               21\n",
      "tropical fruit      2\n",
      "gin                18\n",
      "grape               2\n",
      "pomegranate         2\n",
      "tequila             9\n",
      "cookie              2\n",
      "peach               2\n",
      "chili               2\n",
      "ice cream           2\n",
      "rose                2\n",
      "vinegar             2\n",
      "tomato              2\n",
      "water               2\n",
      "yoghurt             4\n",
      "dtype: int64\n"
     ]
    }
   ],
   "source": [
    "# check basic information of dataset\n",
    "\n",
    "print('Number of Rows: ',df.shape[0])\n",
    "print('Number of Columns: ', df.shape[1])\n",
    "print('Features: \\n', df.columns.tolist())\n",
    "print('Number of null value: ', df.isnull().sum().values.sum())\n",
    "print('Unique values: \\n', df.nunique())"
   ]
  },
  {
   "cell_type": "code",
   "execution_count": 7,
   "metadata": {},
   "outputs": [
    {
     "data": {
      "text/plain": [
       "<matplotlib.axes._subplots.AxesSubplot at 0x125d95990>"
      ]
     },
     "execution_count": 7,
     "metadata": {},
     "output_type": "execute_result"
    },
    {
     "data": {
      "image/png": "[encoded data removed]",
      "text/plain": [
       "<Figure size 432x288 with 1 Axes>"
      ]
     },
     "metadata": {
      "needs_background": "light"
     },
     "output_type": "display_data"
    }
   ],
   "source": [
    "# Explore the ingredient distribution\n",
    "df_count = pd.DataFrame(df.nunique(),columns=['Count']).drop('DrinkName')\n",
    "df_count.plot(kind='bar',color='plum')"
   ]
  },
  {
   "cell_type": "code",
   "execution_count": 8,
   "metadata": {},
   "outputs": [],
   "source": [
    "# separate numerical and categorical features\n",
    "\n",
    "num_features = ['rum', 'grain alcohol', 'vodka', 'brandy', 'bitters',\n",
    "       'campari', 'whiskey', 'beer', 'soda', 'syrup', 'champagne', 'coke', 'milk', 'coffee',\n",
    "       'wine', 'gin', 'tequila', 'yoghurt']\n",
    "\n",
    "cat_features = []\n",
    "for col in df.columns:\n",
    "    if col not in num_features:\n",
    "        cat_features.append(col)"
   ]
  },
  {
   "cell_type": "code",
   "execution_count": 9,
   "metadata": {},
   "outputs": [],
   "source": [
    "# scale standardization of numerical values\n",
    "df_num = pd.DataFrame(StandardScaler().fit_transform(df[num_features]),columns=num_features)\n",
    "df_cat = df.drop(columns=num_features)\n",
    "df_std = df_cat.merge(df_num,left_index=True,right_index=True,how='left')\n",
    "df_w_name = df_std\n",
    "df_w_name.head()\n",
    "df_std = df.set_index('DrinkName')"
   ]
  },
  {
   "cell_type": "code",
   "execution_count": 12,
   "metadata": {},
   "outputs": [
    {
     "name": "stderr",
     "output_type": "stream",
     "text": [
      "/opt/anaconda3/lib/python3.7/site-packages/ipykernel_launcher.py:4: ClusterWarning: scipy.cluster: The symmetric non-negative hollow observation matrix looks suspiciously like an uncondensed distance matrix\n",
      "  after removing the cwd from sys.path.\n"
     ]
    }
   ],
   "source": [
    "# generate similarity matrix\n",
    "distance_matrix = gower.gower_matrix(df_std)\n",
    "#create complete linkage\n",
    "Zd = linkage(distance_matrix,method='complete') "
   ]
  },
  {
   "cell_type": "code",
   "execution_count": 13,
   "metadata": {},
   "outputs": [
    {
     "data": {
      "image/png": "[encoded data removed]",
      "text/plain": [
       "<Figure size 1800x360 with 1 Axes>"
      ]
     },
     "metadata": {
      "needs_background": "light"
     },
     "output_type": "display_data"
    }
   ],
   "source": [
    "# hierarchical clustering visulization\n",
    "fig,axs = plt.subplots(1,1,figsize=(25,5))\n",
    "dn = dendrogram(Zd, truncate_mode='level',p=6,show_leaf_counts=True,ax=axs)"
   ]
  },
  {
   "cell_type": "code",
   "execution_count": 14,
   "metadata": {},
   "outputs": [],
   "source": [
    "# find similar cocktails\n",
    "def find_similar(row,k):\n",
    "    n_similar = gower.gower_topn(df_std.iloc[row:row+1,:],df_std,n=k)\n",
    "    similar_cocktails = []\n",
    "    distance = list(n_similar['values'])\n",
    "    for i in n_similar['index']:\n",
    "        similar_cocktails.append(df_w_name.iloc[i,0])\n",
    "    similar_cocktails = similar_cocktails[1:]\n",
    "    return similar_cocktails\n",
    "\n",
    "df_similar = pd.DataFrame()\n",
    "for i,row in df_w_name.iterrows():\n",
    "    df_similar[row['DrinkName']] = find_similar(i,6)\n",
    "df_similar_t = df_similar.T\n",
    "df_similar_t.columns = ['top 1','top 2','top 3','top 4','top 5']"
   ]
  },
  {
   "cell_type": "code",
   "execution_count": 16,
   "metadata": {},
   "outputs": [
    {
     "name": "stdout",
     "output_type": "stream",
     "text": [
      "What cocktails/drinks is similar to ...? Just enter a cocktail/drink name: Gin Fizz\n"
     ]
    }
   ],
   "source": [
    "# user input the target cocktail\n",
    "find_similar_cocktail = input(\"What cocktails/drinks is similar to ...? Just enter a cocktail/drink name: \")"
   ]
  },
  {
   "cell_type": "code",
   "execution_count": 17,
   "metadata": {},
   "outputs": [
    {
     "name": "stdout",
     "output_type": "stream",
     "text": [
      "top 1    Royal Gin Fizz\n",
      "top 2        Gin Cooler\n",
      "top 3          Aviation\n",
      "top 4         Dragonfly\n",
      "top 5            Gimlet\n",
      "Name: Gin Fizz, dtype: object\n"
     ]
    }
   ],
   "source": [
    "print(df_similar_t.loc[find_similar_cocktail])"
   ]
  },
  {
   "cell_type": "code",
   "execution_count": null,
   "metadata": {},
   "outputs": [],
   "source": []
  }
 ],
 "metadata": {
  "kernelspec": {
   "display_name": "Python 3",
   "language": "python",
   "name": "python3"
  },
  "language_info": {
   "codemirror_mode": {
    "name": "ipython",
    "version": 3
   },
   "file_extension": ".py",
   "mimetype": "text/x-python",
   "name": "python",
   "nbconvert_exporter": "python",
   "pygments_lexer": "ipython3",
   "version": "3.7.4"
  }
 },
 "nbformat": 4,
 "nbformat_minor": 2
}
